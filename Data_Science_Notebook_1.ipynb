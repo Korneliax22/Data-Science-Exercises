{
  "nbformat": 4,
  "nbformat_minor": 0,
  "metadata": {
    "colab": {
      "provenance": []
    },
    "kernelspec": {
      "name": "ir",
      "display_name": "R"
    }
  },
  "cells": [
    {
      "cell_type": "markdown",
      "metadata": {
        "id": "9VNPPUX169Ig"
      },
      "source": [
        "#STUDENT NOTEBOOK\n",
        "   - Student : Kornelia Machnicka\n",
        "   \n",
        "Data Science - University of Deusto"
      ]
    },
    {
      "cell_type": "markdown",
      "metadata": {
        "id": "ZfYd0fb_DO-y"
      },
      "source": [
        "##Libraries\n",
        "\n",
        "Be sure all the needed libraries for the proper execution of the code without errors are included here."
      ]
    },
    {
      "cell_type": "code",
      "metadata": {
        "id": "v-1rXfz6CJQO",
        "colab": {
          "base_uri": "https://localhost:8080/"
        },
        "outputId": "7f7b6720-c5f4-4e27-8915-01de61247cc7"
      },
      "source": [
        "packages = c(\"tidyverse\", \"glue\", \"knitr\", \"jsonlite\", \"rvest\", \"fastDummies\")\n",
        "newpack  = packages[!(packages %in% installed.packages()[,\"Package\"])]\n",
        "if(length(newpack)) install.packages(newpack)\n",
        "a=lapply(packages, library, character.only=TRUE)"
      ],
      "execution_count": null,
      "outputs": [
        {
          "output_type": "stream",
          "name": "stderr",
          "text": [
            "Installing package into ‘/usr/local/lib/R/site-library’\n",
            "(as ‘lib’ is unspecified)\n",
            "\n",
            "── \u001b[1mAttaching core tidyverse packages\u001b[22m ──────────────────────── tidyverse 2.0.0 ──\n",
            "\u001b[32m✔\u001b[39m \u001b[34mdplyr    \u001b[39m 1.1.4     \u001b[32m✔\u001b[39m \u001b[34mreadr    \u001b[39m 2.1.5\n",
            "\u001b[32m✔\u001b[39m \u001b[34mforcats  \u001b[39m 1.0.0     \u001b[32m✔\u001b[39m \u001b[34mstringr  \u001b[39m 1.5.1\n",
            "\u001b[32m✔\u001b[39m \u001b[34mggplot2  \u001b[39m 3.5.1     \u001b[32m✔\u001b[39m \u001b[34mtibble   \u001b[39m 3.2.1\n",
            "\u001b[32m✔\u001b[39m \u001b[34mlubridate\u001b[39m 1.9.4     \u001b[32m✔\u001b[39m \u001b[34mtidyr    \u001b[39m 1.3.1\n",
            "\u001b[32m✔\u001b[39m \u001b[34mpurrr    \u001b[39m 1.0.4     \n",
            "── \u001b[1mConflicts\u001b[22m ────────────────────────────────────────── tidyverse_conflicts() ──\n",
            "\u001b[31m✖\u001b[39m \u001b[34mdplyr\u001b[39m::\u001b[32mfilter()\u001b[39m masks \u001b[34mstats\u001b[39m::filter()\n",
            "\u001b[31m✖\u001b[39m \u001b[34mdplyr\u001b[39m::\u001b[32mlag()\u001b[39m    masks \u001b[34mstats\u001b[39m::lag()\n",
            "\u001b[36mℹ\u001b[39m Use the conflicted package (\u001b[3m\u001b[34m<http://conflicted.r-lib.org/>\u001b[39m\u001b[23m) to force all conflicts to become errors\n",
            "\n",
            "Attaching package: ‘jsonlite’\n",
            "\n",
            "\n",
            "The following object is masked from ‘package:purrr’:\n",
            "\n",
            "    flatten\n",
            "\n",
            "\n",
            "\n",
            "Attaching package: ‘rvest’\n",
            "\n",
            "\n",
            "The following object is masked from ‘package:readr’:\n",
            "\n",
            "    guess_encoding\n",
            "\n",
            "\n"
          ]
        }
      ]
    },
    {
      "cell_type": "markdown",
      "metadata": {
        "id": "l_sEH7UyzKKt"
      },
      "source": [
        "##Exercise 01: Tidyverse basics"
      ]
    },
    {
      "cell_type": "markdown",
      "metadata": {
        "id": "qwrOgs6Vtw0X"
      },
      "source": [
        "Using data in the file *game_of_thrones_imdb.csv*:\n"
      ]
    },
    {
      "cell_type": "markdown",
      "source": [
        "**POINT 1:**\n",
        "\n",
        "Identify the highest-rated (imdb_rating) and lowest-rated episodes for each season. Return a dataset that includes the columns season, title, imdb_rating, and a new column called ranking indicating whether the episode is the \"best\" or the \"worst\" of the season."
      ],
      "metadata": {
        "id": "H2dfIYHFXw8v"
      }
    },
    {
      "cell_type": "code",
      "metadata": {
        "id": "hLvalpp47kw8",
        "colab": {
          "base_uri": "https://localhost:8080/",
          "height": 433
        },
        "outputId": "1cea1199-2669-43de-e977-a9c39f0aa3a9"
      },
      "source": [
        "rm(list = ls()) #This command is included to avoid confusion with previously declared variables\n",
        "\n",
        "data = read.csv(\"./game_of_thrones_imdb.csv\")\n",
        "data_ranking = data %>%\n",
        "  group_by(season) %>%\n",
        "  mutate(max_rating = max(imdb_rating, na.rm = T),    #removing NA values to obtain good calculations\n",
        "         min_rating = min(imdb_rating, na.rm = T)) %>%\n",
        "  filter(imdb_rating == max_rating | imdb_rating == min_rating) %>%\n",
        "  mutate(ranking = case_when(\n",
        "                          imdb_rating == max_rating ~ \"best\",\n",
        "                          imdb_rating == min_rating ~ \"worst\")) %>%\n",
        "  select(season, title, imdb_rating, ranking)\n",
        "\n",
        "knitr::kable(data_ranking)"
      ],
      "execution_count": null,
      "outputs": [
        {
          "output_type": "display_data",
          "data": {
            "text/plain": [
              "\n",
              "\n",
              "| season|title                          | imdb_rating|ranking |\n",
              "|------:|:------------------------------|-----------:|:-------|\n",
              "|      1|Lord Snow                      |         8.5|worst   |\n",
              "|      1|Baelor                         |         9.6|best    |\n",
              "|      2|The Night Lands                |         8.4|worst   |\n",
              "|      2|Blackwater                     |         9.6|best    |\n",
              "|      3|Dark Wings, Dark Words         |         8.5|worst   |\n",
              "|      3|The Rains of Castamere         |         9.9|best    |\n",
              "|      4|The Lion and the Rose          |         9.7|best    |\n",
              "|      4|First of His Name              |         8.6|worst   |\n",
              "|      4|The Laws of Gods and Men       |         9.7|best    |\n",
              "|      4|The Mountain and the Viper     |         9.7|best    |\n",
              "|      5|Unbowed, Unbent, Unbroken      |         7.9|worst   |\n",
              "|      5|Hardhome                       |         9.8|best    |\n",
              "|      6|Blood of My Blood              |         8.3|worst   |\n",
              "|      6|No One                         |         8.3|worst   |\n",
              "|      6|Battle of the Bastards         |         9.9|best    |\n",
              "|      6|The Winds of Winter            |         9.9|best    |\n",
              "|      7|Dragonstone                    |         8.5|worst   |\n",
              "|      7|The Spoils of War              |         9.7|best    |\n",
              "|      8|A Knight of the Seven Kingdoms |         7.9|best    |\n",
              "|      8|The Iron Throne                |         4.1|worst   |"
            ]
          },
          "metadata": {}
        }
      ]
    },
    {
      "cell_type": "markdown",
      "source": [
        "**POINT 2:**\n",
        "\n",
        "Calculate an \"average episode\" for each season based on the average ratings (imdb_rating) and votes (total_votes). Create a dataset with columns season, avg_rating, and avg_votes. Then, sort the seasons by the average number of votes in descending order."
      ],
      "metadata": {
        "id": "7Ietu1OEX8Qr"
      }
    },
    {
      "cell_type": "code",
      "source": [
        "data_average = data %>%\n",
        "  group_by(season) %>%\n",
        "  summarise(avg_rating = mean(imdb_rating, na.rm = T),  #calculating the mean value to obtain average episode\n",
        "            avg_votes = mean(total_votes, na.rm = T)) %>%\n",
        "  select(season, avg_rating, avg_votes) %>%\n",
        "  arrange(desc(avg_votes))\n",
        "\n",
        "knitr::kable(data_average)"
      ],
      "metadata": {
        "colab": {
          "base_uri": "https://localhost:8080/",
          "height": 225
        },
        "id": "nVNAKNN6TOOd",
        "outputId": "b6733b04-daf1-4fc5-b27b-76abaf8b1540"
      },
      "execution_count": null,
      "outputs": [
        {
          "output_type": "display_data",
          "data": {
            "text/plain": [
              "\n",
              "\n",
              "| season| avg_rating| avg_votes|\n",
              "|------:|----------:|---------:|\n",
              "|      8|   6.433333| 177794.33|\n",
              "|      6|   8.990000|  67475.10|\n",
              "|      7|   9.028571|  56502.43|\n",
              "|      4|   9.240000|  39393.30|\n",
              "|      5|   8.740000|  37860.50|\n",
              "|      3|   8.950000|  36131.60|\n",
              "|      1|   8.980000|  35616.70|\n",
              "|      2|   8.820000|  30263.90|"
            ]
          },
          "metadata": {}
        }
      ]
    },
    {
      "cell_type": "markdown",
      "source": [
        "**POINT 3:**\n",
        "\n",
        "For each episode, calculate the difference between its rating (imdb_rating) and the average rating of the episodes in its season. Add this difference as a new column called rating_diff and return only the episodes where this difference is greater than 1 or less than -1."
      ],
      "metadata": {
        "id": "u8ViTg8hX_KH"
      }
    },
    {
      "cell_type": "code",
      "source": [
        "data_difference = data %>%\n",
        "  group_by(season) %>%\n",
        "  mutate(rating_diff = imdb_rating - mean(imdb_rating, na.rm = T)) %>%\n",
        "  select(season, title, imdb_rating, rating_diff) %>%\n",
        "  filter(rating_diff > 1 | rating_diff < -1)\n",
        "\n",
        "knitr::kable(data_difference)"
      ],
      "metadata": {
        "colab": {
          "base_uri": "https://localhost:8080/",
          "height": 173
        },
        "id": "H6zFWWEBXqNw",
        "outputId": "6d792129-6322-455b-b9b6-107e53f36c1d"
      },
      "execution_count": null,
      "outputs": [
        {
          "output_type": "display_data",
          "data": {
            "text/plain": [
              "\n",
              "\n",
              "| season|title                          | imdb_rating| rating_diff|\n",
              "|------:|:------------------------------|-----------:|-----------:|\n",
              "|      5|Hardhome                       |         9.8|    1.060000|\n",
              "|      8|Winterfell                     |         7.6|    1.166667|\n",
              "|      8|A Knight of the Seven Kingdoms |         7.9|    1.466667|\n",
              "|      8|The Long Night                 |         7.5|    1.066667|\n",
              "|      8|The Iron Throne                |         4.1|   -2.333333|"
            ]
          },
          "metadata": {}
        }
      ]
    },
    {
      "cell_type": "markdown",
      "source": [
        "**POINT 4:**\n",
        "\n",
        "Divide the episodes of each season into two groups: those with a rating above the season's average and those with a rating equal to or below it. Return a dataset with the columns season, above_avg_count, and below_avg_count, representing the number of episodes in each group for each season."
      ],
      "metadata": {
        "id": "xdD8R_bHlQC4"
      }
    },
    {
      "cell_type": "code",
      "source": [
        "data_new = data %>%\n",
        "  group_by(season) %>%\n",
        "  summarise(avg_rating = mean(imdb_rating, na.rm = T),\n",
        "            above_avg_count = sum(imdb_rating > avg_rating, na.rm = T),\n",
        "            below_avg_count = sum(imdb_rating <= avg_rating, na.rm = T)) %>%\n",
        "  select(season, above_avg_count, below_avg_count)\n",
        "\n",
        "knitr::kable(data_new)"
      ],
      "metadata": {
        "colab": {
          "base_uri": "https://localhost:8080/",
          "height": 225
        },
        "id": "QvHxNyUcmJdh",
        "outputId": "0cecb5e6-e698-4160-88cd-99e62c23b816"
      },
      "execution_count": null,
      "outputs": [
        {
          "output_type": "display_data",
          "data": {
            "text/plain": [
              "\n",
              "\n",
              "| season| above_avg_count| below_avg_count|\n",
              "|------:|---------------:|---------------:|\n",
              "|      1|               6|               4|\n",
              "|      2|               3|               7|\n",
              "|      3|               3|               7|\n",
              "|      4|               5|               5|\n",
              "|      5|               4|               6|\n",
              "|      6|               5|               5|\n",
              "|      7|               3|               4|\n",
              "|      8|               3|               3|"
            ]
          },
          "metadata": {}
        }
      ]
    },
    {
      "cell_type": "markdown",
      "metadata": {
        "id": "1SYfRUABzMfr"
      },
      "source": [
        "##Exercise 02: Data Sources"
      ]
    },
    {
      "cell_type": "markdown",
      "source": [
        "**POINT 1:**\n",
        "\n",
        "The OpenCage Geocoder API (https://opencagedata.com/) provides access to geographical names and location information based on latitude and longitude coordinates. You have to:\n",
        "To perform the necessary operations to generate random geographical coordinates, with latitudes ranging from -90 to 90 and longitudes ranging from -180 to 180\n",
        "To use the API to retrieve the names of the following geographical elements for each coordinate: the city, the state, the country, the continent, and the body of water. The retrieved data should be stored in a data frame with one row per coordinate and columns corresponding to these fields. If the API returns a NULL for any field, it should be recorded as NA.\n",
        "The data collection should continue until the data frame contains at least ten entries with a non-NA value in the continent field."
      ],
      "metadata": {
        "id": "0OuFGvstsWFO"
      }
    },
    {
      "cell_type": "markdown",
      "source": [
        "**Explanation:**\n",
        "\n",
        "From the API documentation available on web page, I obtained the information of how to get required api key, correct url, parameters to pass in url.\n",
        "\n",
        "While loop is used to collect data until the data frame contains at least ten entries with a non-NA value in the continent field. In every call of the while loop, one variable for latitude and one for longitude is generated.\n",
        "\n",
        "In documentation for R I found function *is.null()* to check if any of the values is NULL. To check if the value for continent is NA, I use function *is.na()* introduced in DS08 Demo Code.\n",
        "\n",
        "From the response from API, relevant data is obtained. If it's null, NA is assigned. Then a new row with the data is added to the data frame."
      ],
      "metadata": {
        "id": "tgNBUTrkNVLH"
      }
    },
    {
      "cell_type": "code",
      "source": [
        "rm(list = ls()) #This command is included to avoid confusion with previously declared variables\n",
        "\n",
        "url = \"https://api.opencagedata.com/geocode/v1/json\"\n",
        "api_key = \"8a3b595eb54e4df98feec2d8833b9982\"\n",
        "\n",
        "geo_data = data.frame(matrix(NA, nrow = 0, ncol = 7), stringsAsFactors = FALSE)\n",
        "\n",
        "i = 0\n",
        "while(i < 10) {\n",
        "  latitude = runif(n = 1, min = -90, max = 90)\n",
        "  longitude = runif(n = 1, min = -180, max = 180)\n",
        "  location = glue(\"{latitude}, {longitude}\")\n",
        "\n",
        "  res = httr::GET(url, query = list(q = location, key = api_key))\n",
        "  data = fromJSON(rawToChar(res$content))\n",
        "\n",
        "  city = ifelse(!is.null(data$results$components$`_normalized_city`), data$results$components$`_normalized_city`, NA)\n",
        "  state = ifelse(!is.null(data$results$components$state), data$results$components$state, NA)\n",
        "  country = ifelse(!is.null(data$results$components$country), data$results$components$country, NA)\n",
        "  continent = ifelse(!is.null(data$results$components$continent), data$results$components$continent, NA)\n",
        "  body_of_water = ifelse(!is.null(data$results$components$body_of_water), data$results$components$body_of_water, NA)\n",
        "\n",
        "  new_row = data.frame(latitude, longitude, city, state, country, continent, body_of_water, stringsAsFactors = FALSE)\n",
        "  geo_data = rbind(geo_data, new_row)\n",
        "\n",
        "  if(!is.na(continent)) {\n",
        "    i = i + 1\n",
        "  }\n",
        "\n",
        "}\n",
        "\n",
        "knitr::kable(geo_data)"
      ],
      "metadata": {
        "id": "P1atNk2XjbTV",
        "colab": {
          "base_uri": "https://localhost:8080/",
          "height": 537
        },
        "outputId": "11947a7d-afd5-4e39-bfcd-1a91415236c7"
      },
      "execution_count": null,
      "outputs": [
        {
          "output_type": "display_data",
          "data": {
            "text/plain": [
              "\n",
              "\n",
              "|   latitude|   longitude|city    |state               |country       |continent     |body_of_water        |\n",
              "|----------:|-----------:|:-------|:-------------------|:-------------|:-------------|:--------------------|\n",
              "| -21.913571| -109.029875|NA      |NA                  |NA            |NA            |Chilean Sea          |\n",
              "|  47.212987| -106.036052|NA      |Montana             |United States |North America |NA                   |\n",
              "| -47.555410|   58.225097|NA      |NA                  |NA            |NA            |Indian Ocean         |\n",
              "|   5.047894|   67.827442|NA      |NA                  |NA            |NA            |Indian Ocean         |\n",
              "|  23.782952|  -88.365634|NA      |NA                  |NA            |NA            |Gulf of Mexico       |\n",
              "| -88.111381|   -1.327475|NA      |NA                  |NA            |NA            |NA                   |\n",
              "|  87.172789|  -47.668019|NA      |NA                  |NA            |NA            |NA                   |\n",
              "| -41.507004|  -13.370653|NA      |NA                  |NA            |NA            |South Atlantic Ocean |\n",
              "|  77.511730|   -3.221884|NA      |NA                  |NA            |NA            |Fram Strait          |\n",
              "| -64.858737|  125.972278|NA      |NA                  |NA            |NA            |NA                   |\n",
              "| -20.326636|  -72.840035|NA      |NA                  |NA            |NA            |Chilean Sea          |\n",
              "| -28.658387|    9.041624|NA      |NA                  |NA            |NA            |South Atlantic Ocean |\n",
              "|  67.499318|  105.547207|NA      |Krasnoyarsk Krai    |Russia        |Asia          |NA                   |\n",
              "| -80.698852|  144.127289|NA      |NA                  |aq            |Antarctica    |NA                   |\n",
              "| -18.319488|   22.016225|NA      |North-West District |Botswana      |Africa        |NA                   |\n",
              "| -71.587780|  -43.454152|NA      |NA                  |aq            |Antarctica    |Weddell Sea          |\n",
              "| -71.524591|  -78.520937|NA      |NA                  |aq            |Antarctica    |Bellingshausen Sea   |\n",
              "|  -9.516086| -107.482256|NA      |NA                  |NA            |NA            |Pacific Ocean        |\n",
              "|  18.971257|   81.440251|Gidam   |Chhattisgarh        |India         |Asia          |NA                   |\n",
              "| -85.990915|   -1.872456|NA      |NA                  |NA            |NA            |NA                   |\n",
              "| -59.022353|   22.699447|NA      |NA                  |NA            |NA            |NA                   |\n",
              "|  88.204188|  -90.684289|NA      |NA                  |NA            |NA            |NA                   |\n",
              "|  83.467751|  107.162275|NA      |NA                  |NA            |NA            |NA                   |\n",
              "| -70.127657|  149.715966|NA      |NA                  |aq            |Antarctica    |NA                   |\n",
              "|  67.554532| -117.876152|NA      |Nunavut             |Canada        |North America |NA                   |\n",
              "| -16.286879|  -57.437672|Cáceres |Mato Gross          |Brazil        |South America |NA                   |"
            ]
          },
          "metadata": {}
        }
      ]
    },
    {
      "cell_type": "markdown",
      "source": [
        "**POINT 2:**\n",
        "\n",
        "The OpenWeatherMap API (https://open-meteo.com/) provides weather information for specific geographical coordinates. You have to:\n",
        "Using the previously created data frame, and considering only the entries with a non-NA value in the continent field, retrieve the following weather information for each corresponding coordinate: the time of the last weather measurement, the temperature at 2 meters above ground level, the relative humidity at that point, the apparent temperature, the weather code, and a logical value indicating whether it was day or night at the time of measurement.\n",
        "These fields should be added as new columns in the data frame."
      ],
      "metadata": {
        "id": "PMAFl-gbsZtR"
      }
    },
    {
      "cell_type": "markdown",
      "source": [
        "**Explanation:**\n",
        "\n",
        "From the API documentation available on web page, I obtained the information of the correct url and the parameters to pass in it.\n",
        "\n",
        "Firstly, new columns are added and filled with NA values. Then, for every row in data frame *geo_data*, new data from this API is collected and added at appropriate positions in the data frame."
      ],
      "metadata": {
        "id": "iFfCvqtcRTkq"
      }
    },
    {
      "cell_type": "code",
      "source": [
        "url = \"https://api.open-meteo.com/v1/forecast\"\n",
        "\n",
        "geo_data$last_measurement = NA\n",
        "geo_data$temperature_2m = NA\n",
        "geo_data$relative_humidity_2m = NA\n",
        "geo_data$apparent_temperature = NA\n",
        "geo_data$weather_code = NA\n",
        "geo_data$is_day = NA\n",
        "\n",
        "for(i in 1:nrow(geo_data)) {\n",
        "\n",
        "  if(!is.na(geo_data$continent[i])) {\n",
        "\n",
        "    res = httr::GET(url, query = list(latitude = geo_data$latitude[i],\n",
        "                                      longitude = geo_data$longitude[i],\n",
        "                                      current = paste(\"temperature_2m\", \"relative_humidity_2m\", \"apparent_temperature\", \"weather_code\", \"is_day\", sep=\",\") ))\n",
        "\n",
        "    data = fromJSON(rawToChar(res$content))\n",
        "\n",
        "    last_measurement = data$current$time\n",
        "    temperature_2m = data$current$temperature_2m\n",
        "    relative_humidity_2m = data$current$relative_humidity_2m\n",
        "    apparent_temperature = data$current$apparent_temperature\n",
        "    weather_code = data$current$weather_code\n",
        "    is_day = data$current$is_day  #1 if day, 0 night\n",
        "\n",
        "    geo_data$last_measurement[i] = last_measurement\n",
        "    geo_data$temperature_2m[i] = temperature_2m\n",
        "    geo_data$relative_humidity_2m[i] = relative_humidity_2m\n",
        "    geo_data$apparent_temperature[i] = apparent_temperature\n",
        "    geo_data$weather_code[i] = weather_code\n",
        "    geo_data$is_day[i] = is_day\n",
        "\n",
        "  }\n",
        "}\n",
        "\n",
        "knitr::kable(geo_data)"
      ],
      "metadata": {
        "id": "6t9cRnAWsb5Z",
        "colab": {
          "base_uri": "https://localhost:8080/",
          "height": 537
        },
        "outputId": "855b851b-61ea-459d-aa14-4c5c35839bf8"
      },
      "execution_count": null,
      "outputs": [
        {
          "output_type": "display_data",
          "data": {
            "text/plain": [
              "\n",
              "\n",
              "|   latitude|   longitude|city    |state               |country       |continent     |body_of_water        |last_measurement | temperature_2m| relative_humidity_2m| apparent_temperature| weather_code| is_day|\n",
              "|----------:|-----------:|:-------|:-------------------|:-------------|:-------------|:--------------------|:----------------|--------------:|--------------------:|--------------------:|------------:|------:|\n",
              "| -21.913571| -109.029875|NA      |NA                  |NA            |NA            |Chilean Sea          |NA               |             NA|                   NA|                   NA|           NA|     NA|\n",
              "|  47.212987| -106.036052|NA      |Montana             |United States |North America |NA                   |2025-04-04T19:30 |            3.9|                   39|                 -1.5|            1|      1|\n",
              "| -47.555410|   58.225097|NA      |NA                  |NA            |NA            |Indian Ocean         |NA               |             NA|                   NA|                   NA|           NA|     NA|\n",
              "|   5.047894|   67.827442|NA      |NA                  |NA            |NA            |Indian Ocean         |NA               |             NA|                   NA|                   NA|           NA|     NA|\n",
              "|  23.782952|  -88.365634|NA      |NA                  |NA            |NA            |Gulf of Mexico       |NA               |             NA|                   NA|                   NA|           NA|     NA|\n",
              "| -88.111381|   -1.327475|NA      |NA                  |NA            |NA            |NA                   |NA               |             NA|                   NA|                   NA|           NA|     NA|\n",
              "|  87.172789|  -47.668019|NA      |NA                  |NA            |NA            |NA                   |NA               |             NA|                   NA|                   NA|           NA|     NA|\n",
              "| -41.507004|  -13.370653|NA      |NA                  |NA            |NA            |South Atlantic Ocean |NA               |             NA|                   NA|                   NA|           NA|     NA|\n",
              "|  77.511730|   -3.221884|NA      |NA                  |NA            |NA            |Fram Strait          |NA               |             NA|                   NA|                   NA|           NA|     NA|\n",
              "| -64.858737|  125.972278|NA      |NA                  |NA            |NA            |NA                   |NA               |             NA|                   NA|                   NA|           NA|     NA|\n",
              "| -20.326636|  -72.840035|NA      |NA                  |NA            |NA            |Chilean Sea          |NA               |             NA|                   NA|                   NA|           NA|     NA|\n",
              "| -28.658387|    9.041624|NA      |NA                  |NA            |NA            |South Atlantic Ocean |NA               |             NA|                   NA|                   NA|           NA|     NA|\n",
              "|  67.499318|  105.547207|NA      |Krasnoyarsk Krai    |Russia        |Asia          |NA                   |2025-04-04T19:30 |          -13.1|                   78|                -18.6|            3|      0|\n",
              "| -80.698852|  144.127289|NA      |NA                  |aq            |Antarctica    |NA                   |2025-04-04T19:30 |          -53.0|                   65|                -60.2|            3|      0|\n",
              "| -18.319488|   22.016225|NA      |North-West District |Botswana      |Africa        |NA                   |2025-04-04T19:30 |           22.8|                   79|                 25.4|            3|      0|\n",
              "| -71.587780|  -43.454152|NA      |NA                  |aq            |Antarctica    |Weddell Sea          |2025-04-04T19:30 |          -18.0|                   85|                -24.2|            3|      1|\n",
              "| -71.524591|  -78.520937|NA      |NA                  |aq            |Antarctica    |Bellingshausen Sea   |2025-04-04T19:30 |           -0.3|                   96|                 -8.5|           71|      1|\n",
              "|  -9.516086| -107.482256|NA      |NA                  |NA            |NA            |Pacific Ocean        |NA               |             NA|                   NA|                   NA|           NA|     NA|\n",
              "|  18.971257|   81.440251|Gidam   |Chhattisgarh        |India         |Asia          |NA                   |2025-04-04T19:30 |           24.3|                   91|                 29.2|            1|      0|\n",
              "| -85.990915|   -1.872456|NA      |NA                  |NA            |NA            |NA                   |NA               |             NA|                   NA|                   NA|           NA|     NA|\n",
              "| -59.022353|   22.699447|NA      |NA                  |NA            |NA            |NA                   |NA               |             NA|                   NA|                   NA|           NA|     NA|\n",
              "|  88.204188|  -90.684289|NA      |NA                  |NA            |NA            |NA                   |NA               |             NA|                   NA|                   NA|           NA|     NA|\n",
              "|  83.467751|  107.162275|NA      |NA                  |NA            |NA            |NA                   |NA               |             NA|                   NA|                   NA|           NA|     NA|\n",
              "| -70.127657|  149.715966|NA      |NA                  |aq            |Antarctica    |NA                   |2025-04-04T19:30 |          -40.3|                   66|                -50.7|            3|      0|\n",
              "|  67.554532| -117.876152|NA      |Nunavut             |Canada        |North America |NA                   |2025-04-04T19:30 |          -16.8|                   83|                -21.5|            2|      1|\n",
              "| -16.286879|  -57.437672|Cáceres |Mato Gross          |Brazil        |South America |NA                   |2025-04-04T19:30 |           28.7|                   72|                 32.6|           80|      1|"
            ]
          },
          "metadata": {}
        }
      ]
    },
    {
      "cell_type": "markdown",
      "metadata": {
        "id": "6ugga7_-0yb_"
      },
      "source": [
        "##Exercise 03: Transformation and profiling"
      ]
    },
    {
      "cell_type": "markdown",
      "metadata": {
        "id": "ho7lHZwK0ycA"
      },
      "source": [
        "Using dataset *Skyrim_Weapons.csv*:\n",
        "\n",
        "**POINT 1:**\n",
        "\n",
        "Discretize the Damage column into three categories: \"Low\" for values less than 15, \"Medium\" for values between 15 and 30 (inclusive of 15 but exclusive of 30), and \"High\" for values greater than or equal to 30. Create a new column called Damage_Level to store these categories. Then, generate dummy variables for the Category column, where each unique category becomes a binary column. Finally, group the dataset by Damage_Level and calculate the sum of each dummy variable within each group. Return a summary table where rows correspond to Damage_Level (\"Low\", \"Medium\", \"High\") and columns represent the sum of the dummy variables for each category.\n",
        "\n",
        "\n",
        "\n",
        "\n",
        "\n"
      ]
    },
    {
      "cell_type": "markdown",
      "source": [
        "**Explanation:**\n",
        "\n",
        "The *Damage* column is discretized into three categories with the use of *mutate()* and *case_when()*.\n",
        "\n",
        "Dummy variables for the *Category* column are created with the function *dummy_cols()*.\n",
        "\n",
        "Then, names of the columns of the data frame *data_disc* are printed in order to obtain proper names that will be used in *summarise()* function."
      ],
      "metadata": {
        "id": "Uz8bZI7nAbVf"
      }
    },
    {
      "cell_type": "code",
      "source": [
        "rm(list = ls()) #This command is included to avoid confusion with previously declared variables\n",
        "\n",
        "data = read.csv(\"./Skyrim_Weapons.csv\")\n",
        "data_disc = data %>%\n",
        "  mutate(Damage_Level = case_when(Damage < 15 ~ \"Low\",\n",
        "                                  Damage >= 15 & Damage < 30 ~ \"Medium\",\n",
        "                                  Damage >= 30 ~ \"High\")) %>%\n",
        "  dummy_cols(select_columns = \"Category\")\n",
        "\n",
        "print(colnames(data_disc))\n",
        "\n",
        "summarised_data = data_disc %>%\n",
        "  group_by(Damage_Level) %>%\n",
        "  summarise(ALL_Archery = sum(Category_Archery, na.rm = T),\n",
        "            `All_One-Handed` = sum(`Category_One-Handed`, na.rm = T),\n",
        "            `All_Two-Handed` = sum(`Category_Two-Handed`, na.rm = T))\n",
        "\n",
        "knitr::kable(summarised_data)"
      ],
      "metadata": {
        "id": "sIhzk6oemMvv",
        "colab": {
          "base_uri": "https://localhost:8080/",
          "height": 208
        },
        "outputId": "429cde7b-89ac-45f4-be2c-085964bca6e8"
      },
      "execution_count": null,
      "outputs": [
        {
          "output_type": "stream",
          "name": "stdout",
          "text": [
            " [1] \"Name\"                \"Damage\"              \"Weight\"             \n",
            " [4] \"Gold\"                \"Upgrade\"             \"Perk\"               \n",
            " [7] \"Type\"                \"Category\"            \"Speed\"              \n",
            "[10] \"Damage_Level\"        \"Category_Archery\"    \"Category_One-Handed\"\n",
            "[13] \"Category_Two-Handed\"\n"
          ]
        },
        {
          "output_type": "display_data",
          "data": {
            "text/plain": [
              "\n",
              "\n",
              "|Damage_Level | ALL_Archery| All_One-Handed| All_Two-Handed|\n",
              "|:------------|-----------:|--------------:|--------------:|\n",
              "|Low          |          47|            149|              1|\n",
              "|Medium       |          24|             12|             60|"
            ]
          },
          "metadata": {}
        }
      ]
    },
    {
      "cell_type": "markdown",
      "source": [
        "**POINT 2:**\n",
        "\n",
        "Normalize the numeric columns Damage, Weight, Gold, and Speed using min-max normalization. Then, calculate the Euclidean distance matrix using these values. From the distance matrix, extract the 10 weapon pairs with the smallest distances. Return a table with three columns: Weapon_1, Weapon_2, and Distance, sorted in ascending order by distance. Ensure that each pair is unique (i.e., avoid duplicates such as Weapon A - Weapon B and Weapon B - Weapon A)."
      ],
      "metadata": {
        "id": "Mx_OTCtEImak"
      }
    },
    {
      "cell_type": "markdown",
      "source": [
        "**Explanation:**\n",
        "\n",
        "In for loop, for every column in list of columns, minimum and maximum values are obtained, min-max normalization value is calculated and inserted in the right place in data frame.\n",
        "\n",
        "Then, a matrix is created with computed Euclidean distances for selected columns with the use of function *dist()* (DS10 Outlier Detection). Names for rows and columns are set to names of weapons for clarity.\n",
        "\n",
        "Data frame *weapon_dist* is created with three columns: *Weapon_1*, *Weapon_2*, and *Distance*.\n",
        "\n",
        "In nested for loops, we create new rows with suitable values and add rows to the data frame *weapons_dist*. By doing\n",
        "\n",
        "*for(col in 1:(ncol(distances)-1))* and *for(row in (col+1):nrow(distances))*, we omit the distances calculated between the same weapons and assure not going out of bounds of the matrix.\n",
        "\n",
        "At the end, data frame is sorted by *Distance* in ascending order and ten weapon pairs with the smallest distances are selected."
      ],
      "metadata": {
        "id": "4838AcL9BtNQ"
      }
    },
    {
      "cell_type": "code",
      "source": [
        "rm(list = ls()) #This command is included to avoid confusion with previously declared variables\n",
        "\n",
        "data = read.csv(\"./Skyrim_Weapons.csv\")\n",
        "\n",
        "columns = c(\"Damage\", \"Weight\", \"Gold\", \"Speed\")\n",
        "\n",
        "for(col in columns) {\n",
        "  min_val = min(data[[col]], na.rm = T)\n",
        "  max_val = max(data[[col]], na.rm = T)\n",
        "\n",
        "  data[[col]] = (data[[col]] - min_val) / (max_val - min_val)\n",
        "}\n",
        "\n",
        "distances = as.matrix(dist(data %>% select(all_of(columns))))\n",
        "rownames(distances) = data$Name\n",
        "colnames(distances) = data$Name\n",
        "\n",
        "weapons_dist = data.frame(matrix(NA, nrow = 0, ncol = 3), stringsAsFactors = FALSE)\n",
        "\n",
        "for(col in 1:(ncol(distances)-1)) {\n",
        "  for(row in (col+1):nrow(distances)) {\n",
        "\n",
        "    Weapon_1 = colnames(distances)[col]\n",
        "    Weapon_2 = rownames(distances)[row]\n",
        "    Distance = distances[row,col]\n",
        "\n",
        "    new_row = data.frame(Weapon_1, Weapon_2, Distance, stringsAsFactors = FALSE)\n",
        "    weapons_dist = rbind(weapons_dist, new_row)\n",
        "  }\n",
        "}\n",
        "\n",
        "weapons_dist = weapons_dist %>%\n",
        "                arrange(Distance) %>%\n",
        "                head(10)\n",
        "\n",
        "knitr::kable(weapons_dist)"
      ],
      "metadata": {
        "colab": {
          "base_uri": "https://localhost:8080/",
          "height": 260
        },
        "id": "BgvGvKOVIpPz",
        "outputId": "3580a0d1-132e-4f8b-a946-2d3042266e32"
      },
      "execution_count": null,
      "outputs": [
        {
          "output_type": "display_data",
          "data": {
            "text/plain": [
              "\n",
              "\n",
              "|Weapon_1                 |Weapon_2         | Distance|\n",
              "|:------------------------|:----------------|--------:|\n",
              "|Dragon Priest Dagger     |Kahvozein's Fang |        0|\n",
              "|Rundi's Dagger           |Steel Dagger     |        0|\n",
              "|Akaviri Sword            |Blades Sword     |        0|\n",
              "|Amren's Family Sword     |Iron Sword       |        0|\n",
              "|Ancient Nord Sword       |Hjalti's Sword   |        0|\n",
              "|Queen Freydis's Sword    |Steel Sword      |        0|\n",
              "|Skyforge Steel Sword     |Vilkas's Sword   |        0|\n",
              "|Ghorbash's Ancestral Axe |Iron War Axe     |        0|\n",
              "|Pickaxe                  |Woodcutter's Axe |        0|\n",
              "|Steel War Axe            |Ulfric's War Axe |        0|"
            ]
          },
          "metadata": {}
        }
      ]
    },
    {
      "cell_type": "markdown",
      "metadata": {
        "id": "B_3KTd020-lf"
      },
      "source": [
        "##Exercise 04: Visualizacion and Quality"
      ]
    },
    {
      "cell_type": "markdown",
      "metadata": {
        "id": "bFUFjnbC0-lg"
      },
      "source": [
        "Using dataset *bgg_dataset.csv*:\n",
        "\n",
        "**POINT 1:**\n",
        "\n",
        "For the Domain with less number of games: Create a scatter plot to visualize the relationship between the maximum number of players (Max Players) and the average rating (Rating Average). Use point size to represent the number of users who rated the game (Users Rated) and color to differentiate domains (Domains)."
      ]
    },
    {
      "cell_type": "markdown",
      "source": [
        "**Explanation:**\n",
        "\n",
        "In the file bgg_dataset.csv values are separated with a semicolon, that's why sep = \";\" is included.\n",
        "\n",
        "Firstly, since in some rows for *Domains* there are multiple domain names, the rows are separated with the use of function *separate_rows()* (found in documentation for R). Then, sum of games for every domain is calculated with function n() and they are sorted in ascending order. The domain with the least amount of games is extracted.\n",
        "\n",
        "As the next step, data frame *data* is filtered by the extracted domain and *Rating.Average* values are changed from characters to numeric. Rows with NA values in relevant columns are also removed.\n",
        "\n",
        "At the end, the scatter plot is created. For better visual clarity, limitation on x-axis is set and two outlier values are removed."
      ],
      "metadata": {
        "id": "ZeV8AKO0GsBl"
      }
    },
    {
      "cell_type": "code",
      "metadata": {
        "id": "DB8gPNB2A7kZ",
        "colab": {
          "base_uri": "https://localhost:8080/",
          "height": 489
        },
        "outputId": "123cb1f0-7639-4464-9206-40d1e95c371e"
      },
      "source": [
        "rm(list = ls()) #This command is included to avoid confusion with previously declared variables\n",
        "\n",
        "data = read.csv(\"./bgg_dataset.csv\", sep = \";\")\n",
        "\n",
        "data = data %>%\n",
        "  separate_rows(Domains, sep = \", \")\n",
        "\n",
        "domain = data %>%\n",
        "  group_by(Domains) %>%\n",
        "  summarise(Num_of_Games = n()) %>%\n",
        "  arrange(Num_of_Games)\n",
        "\n",
        "domain_name = domain$Domains[1]\n",
        "\n",
        "data = data %>%\n",
        "  filter(Domains == domain_name) %>%\n",
        "  mutate(Rating.Average = as.numeric(gsub(\",\", \".\", Rating.Average))) %>%\n",
        "  filter(!is.na(Max.Players), !is.na(Rating.Average), !is.na(Users.Rated))\n",
        "\n",
        "ggplot(data, aes(x = Max.Players, y = Rating.Average, col = Domains)) +\n",
        "  geom_point(aes(size = Users.Rated)) +\n",
        "  labs(title = glue(\"Statistics for Domain: {domain_name}\")) +\n",
        "  xlim(0, 15) +\n",
        "  theme_minimal() +\n",
        "  theme(title = element_text(size = 15),\n",
        "        axis.title = element_text(size = 18))\n"
      ],
      "execution_count": null,
      "outputs": [
        {
          "output_type": "stream",
          "name": "stderr",
          "text": [
            "Warning message:\n",
            "“\u001b[1m\u001b[22mRemoved 2 rows containing missing values or values outside the scale range\n",
            "(`geom_point()`).”\n"
          ]
        },
        {
          "output_type": "display_data",
          "data": {
            "text/plain": [
              "plot without title"
            ],
            "image/png": "[encoded data removed]"
          },
          "metadata": {
            "image/png": {
              "width": 420,
              "height": 420
            }
          }
        }
      ]
    },
    {
      "cell_type": "markdown",
      "source": [
        "**POINT 2:**\n",
        "\n",
        "For each Domains group in the dataset, calculate the interquartile range (IQR) for the columns Play Time and Users Rated. Identify the outliers in each group based on the following rule: a value is an outlier if it is below Q1 - 1.5 * IQR or above Q3 + 1.5 * IQR. Create a summary table with the following columns:\n",
        "Domain: The group name.\n",
        "Metric: Either Play Time or Users Rated.\n",
        "Outlier Count: The number of outliers detected in that metric within the domain."
      ],
      "metadata": {
        "id": "NE00EEVz1QPn"
      }
    },
    {
      "cell_type": "markdown",
      "source": [
        "**Explanation:**\n",
        "\n",
        "Firstly, since in some rows for *Domains* there are multiple domain names, the rows are separated with the use of function *separate_rows()* (found in documentation for R).\n",
        "\n",
        "Then with the use of *quantile()* (DS06 Profiling), suitable percentails and interquartile ranges are calculated for columns *Play Time* and *Users Rated*. In new columns *outlier_Play.Time* and *outlier_Users.Rated* logical values, whether the value is an outlier or not, are stored.\n",
        "\n",
        "The summary table is created and function *pivot_longer()* (DS012 Table Transformation and R documentation) is used to transform the table. At the end, names in *Metric* column are changed to appropriate names."
      ],
      "metadata": {
        "id": "Z0MEH1TyG9Kd"
      }
    },
    {
      "cell_type": "code",
      "source": [
        "rm(list = ls()) #This command is included to avoid confusion with previously declared variables\n",
        "\n",
        "data = read.csv(\"./bgg_dataset.csv\", sep = \";\")\n",
        "\n",
        "data = data %>%\n",
        "  separate_rows(Domains, sep = \", \") %>%\n",
        "  group_by(Domains) %>%\n",
        "  mutate(Q1_Play.Time = quantile(Play.Time, 0.25, na.rm = T),\n",
        "         Q3_Play.Time = quantile(Play.Time, 0.75, na.rm = T),\n",
        "         IQR_Play.Time = Q3_Play.Time - Q1_Play.Time,\n",
        "\n",
        "         Q1_Users.Rated = quantile(Users.Rated, 0.25, na.rm = T),\n",
        "         Q3_Users.Rated = quantile(Users.Rated, 0.75, na.rm = T),\n",
        "         IQR_Users.Rated = Q3_Users.Rated - Q1_Users.Rated,\n",
        "\n",
        "         outlier_Play.Time = (Play.Time < Q1_Play.Time - 1.5 * IQR_Play.Time) | (Play.Time > Q3_Play.Time - 1.5 * IQR_Play.Time),\n",
        "         outlier_Users.Rated = (Users.Rated < Q1_Users.Rated - 1.5 * IQR_Users.Rated) | (Users.Rated > Q3_Users.Rated - 1.5 * IQR_Users.Rated))\n",
        "\n",
        "\n",
        "summary = data %>%\n",
        "  group_by(Domains) %>%\n",
        "  summarise(Outliers_Play.Time = sum(outlier_Play.Time, na.rm = T),\n",
        "            Outliers_Users.Rated = sum(outlier_Users.Rated, na.rm = T)) %>%\n",
        "\n",
        "  pivot_longer(cols = c(\"Outliers_Play.Time\", \"Outliers_Users.Rated\"),\n",
        "               names_to = \"Metric\",\n",
        "               values_to = \"Outlier_Count\") %>%\n",
        "\n",
        "  mutate(Metric = case_when(Metric == \"Outliers_Play.Time\" ~ \"Play Time\",\n",
        "                            Metric == \"Outliers_Users.Rated\" ~ \"User Rated\"))\n",
        "\n",
        "\n",
        "knitr::kable(summary)\n"
      ],
      "metadata": {
        "colab": {
          "base_uri": "https://localhost:8080/",
          "height": 398
        },
        "id": "NGX0vIbv1R5A",
        "outputId": "4e65bae8-58db-41bb-fca2-5430cf03c486"
      },
      "execution_count": null,
      "outputs": [
        {
          "output_type": "display_data",
          "data": {
            "text/plain": [
              "\n",
              "\n",
              "|Domains            |Metric     | Outlier_Count|\n",
              "|:------------------|:----------|-------------:|\n",
              "|                   |Play Time  |          9807|\n",
              "|                   |User Rated |         10159|\n",
              "|Abstract Games     |Play Time  |           931|\n",
              "|Abstract Games     |User Rated |          1070|\n",
              "|Children's Games   |Play Time  |           811|\n",
              "|Children's Games   |User Rated |           849|\n",
              "|Customizable Games |Play Time  |           269|\n",
              "|Customizable Games |User Rated |           297|\n",
              "|Family Games       |Play Time  |          2093|\n",
              "|Family Games       |User Rated |          2173|\n",
              "|Party Games        |Play Time  |           593|\n",
              "|Party Games        |User Rated |           605|\n",
              "|Strategy Games     |Play Time  |          2203|\n",
              "|Strategy Games     |User Rated |          2205|\n",
              "|Thematic Games     |Play Time  |          1018|\n",
              "|Thematic Games     |User Rated |          1174|\n",
              "|Wargames           |Play Time  |          3137|\n",
              "|Wargames           |User Rated |          3316|"
            ]
          },
          "metadata": {}
        }
      ]
    }
  ]
}