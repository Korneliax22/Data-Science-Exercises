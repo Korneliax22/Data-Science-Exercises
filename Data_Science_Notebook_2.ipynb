{
  "nbformat": 4,
  "nbformat_minor": 0,
  "metadata": {
    "colab": {
      "provenance": []
    },
    "kernelspec": {
      "name": "ir",
      "display_name": "R"
    }
  },
  "cells": [
    {
      "cell_type": "markdown",
      "metadata": {
        "id": "9VNPPUX169Ig"
      },
      "source": [
        "#STUDENT NOTEBOOK\n",
        "   - Student : Kornelia Machnicka\n",
        "   \n",
        "Data Science - University of Deusto"
      ]
    },
    {
      "cell_type": "markdown",
      "metadata": {
        "id": "ZfYd0fb_DO-y"
      },
      "source": [
        "##Libraries\n",
        "\n",
        "Be sure all the needed libraries for the proper execution of the code without errors are included here."
      ]
    },
    {
      "cell_type": "code",
      "metadata": {
        "id": "v-1rXfz6CJQO",
        "colab": {
          "base_uri": "https://localhost:8080/"
        },
        "outputId": "a1c0a70a-252a-4e40-acc4-a179adfe4159"
      },
      "source": [
        "packages = c(\"tidyverse\", \"glue\", \"knitr\", \"lubridate\", \"fastDummies\", \"class\", \"caret\", \"rpart\", \"arules\")\n",
        "newpack  = packages[!(packages %in% installed.packages()[,\"Package\"])]\n",
        "if(length(newpack)) install.packages(newpack)\n",
        "a=lapply(packages, library, character.only=TRUE)"
      ],
      "execution_count": null,
      "outputs": [
        {
          "output_type": "stream",
          "name": "stderr",
          "text": [
            "Installing packages into ‘/usr/local/lib/R/site-library’\n",
            "(as ‘lib’ is unspecified)\n",
            "\n",
            "also installing the dependencies ‘listenv’, ‘parallelly’, ‘future’, ‘globals’, ‘shape’, ‘future.apply’, ‘numDeriv’, ‘progressr’, ‘SQUAREM’, ‘diagram’, ‘lava’, ‘prodlim’, ‘proxy’, ‘iterators’, ‘clock’, ‘gower’, ‘hardhat’, ‘ipred’, ‘sparsevctrs’, ‘timeDate’, ‘e1071’, ‘foreach’, ‘ModelMetrics’, ‘plyr’, ‘pROC’, ‘recipes’, ‘reshape2’\n",
            "\n",
            "\n",
            "── \u001b[1mAttaching core tidyverse packages\u001b[22m ──────────────────────── tidyverse 2.0.0 ──\n",
            "\u001b[32m✔\u001b[39m \u001b[34mdplyr    \u001b[39m 1.1.4     \u001b[32m✔\u001b[39m \u001b[34mreadr    \u001b[39m 2.1.5\n",
            "\u001b[32m✔\u001b[39m \u001b[34mforcats  \u001b[39m 1.0.0     \u001b[32m✔\u001b[39m \u001b[34mstringr  \u001b[39m 1.5.1\n",
            "\u001b[32m✔\u001b[39m \u001b[34mggplot2  \u001b[39m 3.5.2     \u001b[32m✔\u001b[39m \u001b[34mtibble   \u001b[39m 3.2.1\n",
            "\u001b[32m✔\u001b[39m \u001b[34mlubridate\u001b[39m 1.9.4     \u001b[32m✔\u001b[39m \u001b[34mtidyr    \u001b[39m 1.3.1\n",
            "\u001b[32m✔\u001b[39m \u001b[34mpurrr    \u001b[39m 1.0.4     \n",
            "── \u001b[1mConflicts\u001b[22m ────────────────────────────────────────── tidyverse_conflicts() ──\n",
            "\u001b[31m✖\u001b[39m \u001b[34mdplyr\u001b[39m::\u001b[32mfilter()\u001b[39m masks \u001b[34mstats\u001b[39m::filter()\n",
            "\u001b[31m✖\u001b[39m \u001b[34mdplyr\u001b[39m::\u001b[32mlag()\u001b[39m    masks \u001b[34mstats\u001b[39m::lag()\n",
            "\u001b[36mℹ\u001b[39m Use the conflicted package (\u001b[3m\u001b[34m<http://conflicted.r-lib.org/>\u001b[39m\u001b[23m) to force all conflicts to become errors\n",
            "Loading required package: lattice\n",
            "\n",
            "\n",
            "Attaching package: ‘caret’\n",
            "\n",
            "\n",
            "The following object is masked from ‘package:purrr’:\n",
            "\n",
            "    lift\n",
            "\n",
            "\n",
            "Loading required package: Matrix\n",
            "\n",
            "\n",
            "Attaching package: ‘Matrix’\n",
            "\n",
            "\n",
            "The following objects are masked from ‘package:tidyr’:\n",
            "\n",
            "    expand, pack, unpack\n",
            "\n",
            "\n",
            "\n",
            "Attaching package: ‘arules’\n",
            "\n",
            "\n",
            "The following object is masked from ‘package:dplyr’:\n",
            "\n",
            "    recode\n",
            "\n",
            "\n",
            "The following objects are masked from ‘package:base’:\n",
            "\n",
            "    abbreviate, write\n",
            "\n",
            "\n"
          ]
        }
      ]
    },
    {
      "cell_type": "markdown",
      "metadata": {
        "id": "l_sEH7UyzKKt"
      },
      "source": [
        "##Exercise 01: Data Integration\n"
      ]
    },
    {
      "cell_type": "markdown",
      "metadata": {
        "id": "qwrOgs6Vtw0X"
      },
      "source": [
        "Using data in the files *ratings.csv* and *movies.csv*:\n",
        "\n",
        "**1.** Using the ratings.csv dataset, transform the data so that each row corresponds to a movieId and each column (beyond movieId) corresponds to a userId. Values should be the given rating. Handle missing values by replacing them with NA.\n"
      ]
    },
    {
      "cell_type": "markdown",
      "source": [
        "**Explanation:**\n",
        "*Pivot_wider()* automatically inserts *NA* in places where there is missing data.\n",
        "For visual clarity, only first ten rows and columns are shown."
      ],
      "metadata": {
        "id": "rtG4YmPM3dX5"
      }
    },
    {
      "cell_type": "code",
      "metadata": {
        "id": "hLvalpp47kw8",
        "colab": {
          "base_uri": "https://localhost:8080/",
          "height": 260
        },
        "outputId": "badebc6d-cd08-48ef-9cb8-7a76d630d677"
      },
      "source": [
        "rm(list = ls())\n",
        "\n",
        "data_ratings = read.csv(\"./ratings.csv\")\n",
        "\n",
        "datawide = data_ratings %>%\n",
        "  pivot_wider(id_cols = movieId, names_from = userId, values_from = rating)\n",
        "\n",
        "knitr::kable(datawide[1:10, 1:10])"
      ],
      "execution_count": null,
      "outputs": [
        {
          "output_type": "display_data",
          "data": {
            "text/plain": [
              "\n",
              "\n",
              "| movieId|   1|  2|  3|  4|  5|  6|  7|  8|  9|\n",
              "|-------:|---:|--:|--:|--:|--:|--:|--:|--:|--:|\n",
              "|      31| 2.5| NA| NA| NA| NA| NA|  3| NA| NA|\n",
              "|    1029| 3.0| NA| NA| NA| NA| NA| NA| NA| NA|\n",
              "|    1061| 3.0| NA| NA| NA| NA| NA| NA| NA| NA|\n",
              "|    1129| 2.0| NA| NA| NA| NA| NA|  3| NA| NA|\n",
              "|    1172| 4.0| NA| NA| NA| NA| NA| NA| NA| NA|\n",
              "|    1263| 2.0| NA| NA| NA| NA| NA| NA| NA| NA|\n",
              "|    1287| 2.0| NA| NA| NA| NA| NA|  4| NA| NA|\n",
              "|    1293| 2.0| NA| NA| NA| NA| NA| NA| NA| NA|\n",
              "|    1339| 3.5| NA| NA| NA| NA| NA| NA| NA| NA|\n",
              "|    1343| 2.0| NA| NA| NA| NA| NA| NA| NA| NA|"
            ]
          },
          "metadata": {}
        }
      ]
    },
    {
      "cell_type": "markdown",
      "source": [
        "**2.** Merge the movies.csv and ratings.csv datasets. Display the titles of the 10 movies with higher number of votes and the userId of the persons giving votes to more movies."
      ],
      "metadata": {
        "id": "aDhkFPQXrBEF"
      }
    },
    {
      "cell_type": "markdown",
      "source": [
        "**Explanation:**\n",
        "\n",
        "Firstly, *full_join()* is used to merge two datasets. Then we accordingly group both data frames and count occurences of votes given and sort in descending order. As a result the first table shows ten movies with highest numer of votes and the second table shows ten users who gave the most votes."
      ],
      "metadata": {
        "id": "fHx6ysX9-Jds"
      }
    },
    {
      "cell_type": "code",
      "source": [
        "data_movies = read.csv(\"./movies.csv\")\n",
        "\n",
        "result = full_join(data_ratings, data_movies, by = \"movieId\") %>%\n",
        "  group_by(movieId) %>%\n",
        "  summarise(num_votes = n()) %>%\n",
        "  arrange(desc(num_votes))\n",
        "\n",
        "user_votes = data_ratings %>%\n",
        "  group_by(userId) %>%\n",
        "  summarise(num_votes = n()) %>%\n",
        "  arrange(desc(num_votes))\n",
        "\n",
        "knitr::kable(head(result, 10))\n",
        "knitr::kable(head(user_votes, 10))"
      ],
      "metadata": {
        "id": "xMJIJkEbrISB",
        "colab": {
          "base_uri": "https://localhost:8080/",
          "height": 502
        },
        "outputId": "daeb262e-84ba-41ba-b162-51dbf2e039d0"
      },
      "execution_count": null,
      "outputs": [
        {
          "output_type": "display_data",
          "data": {
            "text/plain": [
              "\n",
              "\n",
              "| movieId| num_votes|\n",
              "|-------:|---------:|\n",
              "|     356|       341|\n",
              "|     296|       324|\n",
              "|     318|       311|\n",
              "|     593|       304|\n",
              "|     260|       291|\n",
              "|     480|       274|\n",
              "|    2571|       259|\n",
              "|       1|       247|\n",
              "|     527|       244|\n",
              "|     589|       237|"
            ]
          },
          "metadata": {}
        },
        {
          "output_type": "display_data",
          "data": {
            "text/plain": [
              "\n",
              "\n",
              "| userId| num_votes|\n",
              "|------:|---------:|\n",
              "|    547|      2391|\n",
              "|    564|      1868|\n",
              "|    624|      1735|\n",
              "|     15|      1700|\n",
              "|     73|      1610|\n",
              "|    452|      1340|\n",
              "|    468|      1291|\n",
              "|    380|      1063|\n",
              "|    311|      1019|\n",
              "|     30|      1011|"
            ]
          },
          "metadata": {}
        }
      ]
    },
    {
      "cell_type": "markdown",
      "metadata": {
        "id": "1SYfRUABzMfr"
      },
      "source": [
        "##Exercise 02: Special Data\n"
      ]
    },
    {
      "cell_type": "markdown",
      "metadata": {
        "id": "dfczvtXmwXjm"
      },
      "source": [
        "Using data in *DisneylandReviews.csv*:\n",
        "\n",
        "**1.** Extract any sequence of characters from the Review_Text column that either contains at least one digit (e.g., \"2\", \"3pm\", \"10:30am\") or is a word written entirely in uppercase (e.g., \"WOW\", \"AMAZING\", \"BAD\"). Create two new columns: one for the extracted sequences containing digits and another for the uppercase words.\n"
      ]
    },
    {
      "cell_type": "markdown",
      "source": [
        "**Explanation:**\n",
        "\n",
        "The expression \"\\\\\\b\\\\\\S\\*\\\\\\d+\\\\\\S\\*\\\\\\b\" is used to find words that contain at least one digit.\n",
        "The expression \"\\\\\\b[A-Z]{2,}\\\\\\b\" is used to find words written entirely in uppercase.\n",
        "\n",
        "\\b ensures to match complete sequences of characters\n",
        "\n",
        "\\S* finds only non-whitespace characters that will appear zero or more times\n",
        "\n",
        "\\d+ finds digits that will appear one or more times\n",
        "\n",
        "[A-Z] finds only uppercase letters\n",
        "\n",
        "{2,} finds at least two uppercase letters in a row"
      ],
      "metadata": {
        "id": "ZdFWhRykW33I"
      }
    },
    {
      "cell_type": "code",
      "source": [
        "rm(list = ls())\n",
        "\n",
        "data = read.csv(\"./DisneylandReviews.csv\")\n",
        "\n",
        "data_movies = data %>%\n",
        "   mutate(digits = str_extract_all(Review_Text,\"\\\\b\\\\S*\\\\d+\\\\S*\\\\b\"),\n",
        "          words = str_extract_all(Review_Text,\"\\\\b[A-Z]{2,}\\\\b\")) %>%\n",
        "   select(-Rating, -Review_Text, -Year_Month, -Branch, -Reviewer_Location)\n",
        "\n",
        "knitr::kable(head(data_movies, 20))"
      ],
      "metadata": {
        "id": "P1atNk2XjbTV",
        "colab": {
          "base_uri": "https://localhost:8080/",
          "height": 433
        },
        "outputId": "27457ea4-661b-4b8d-9307-3b11f8d47818"
      },
      "execution_count": null,
      "outputs": [
        {
          "output_type": "display_data",
          "data": {
            "text/plain": [
              "\n",
              "\n",
              "| Review_ID|digits                        |words                                                |\n",
              "|---------:|:-----------------------------|:----------------------------------------------------|\n",
              "| 670772142|                              |                                                     |\n",
              "| 670682799|1                             |HK     , AKA    , HK     , HK     , MINUS  , SMILING |\n",
              "| 670623270|10:30am, 6pm    , 8.5    , 45 |                                                     |\n",
              "| 670607911|                              |HK, LA                                               |\n",
              "| 670607296|1                             |                                                     |\n",
              "| 670591897|                              |VERY                                                 |\n",
              "| 670585330|                              |                                                     |\n",
              "| 670574142|1.5days.One                   |                                                     |\n",
              "| 670571027|2                             |                                                     |\n",
              "| 670570869|100, 4D                       |MTR, HKD, NOT                                        |\n",
              "| 670443403|2                             |DL                                                   |\n",
              "| 670435886|                              |                                                     |\n",
              "| 670376905|7,6,5,4,3, 1                  |                                                     |\n",
              "| 670324965|                              |                                                     |\n",
              "| 670274554|3 , 11, 9 , 6 , 3D            |HUGE                                                 |\n",
              "| 670205135|2 , 1 , 30, 1                 |                                                     |\n",
              "| 670199487|2, 8                          |                                                     |\n",
              "| 670129921|60                            |                                                     |\n",
              "| 670099231|                              |                                                     |\n",
              "| 670033848|                              |HK                                                   |"
            ]
          },
          "metadata": {}
        }
      ]
    },
    {
      "cell_type": "markdown",
      "source": [
        "**2.** Convert the Year_Month column into a proper datetime format and ensure the data is sorted chronologically. Per month and by branch, calculate the number of \"bad reviews\" (Rating <= 3) and \"good reviews\" (Rating > 3) the current plus in the previous two months for each branch (rolling sum). Create line graphs to visualize the % of bad and good reviews per branch.\n"
      ],
      "metadata": {
        "id": "OhWPYS33-6U_"
      }
    },
    {
      "cell_type": "markdown",
      "source": [
        "**Explanation:**\n",
        "\n",
        "The first part of the code detects only correct expression for *Year_Month*, changes the date into proper date format and sorts chronologically.\n",
        "\n",
        "The second part of the code calculates numbers of bad and good reviews and rolling sums.\n",
        "\n",
        "The graph visualizes percent of good and bad reviews for every branch for every year. Rolling values were used to show more stable patterns and trends over time."
      ],
      "metadata": {
        "id": "lFduwsbEnNpt"
      }
    },
    {
      "cell_type": "code",
      "source": [
        "data = read.csv(\"./DisneylandReviews.csv\")\n",
        "\n",
        "data = data %>%\n",
        "  filter(str_detect(Year_Month,\"[0-9]{4}-[0-9]{1,2}\")) %>%\n",
        "  separate(Year_Month, into = c(\"Year\", \"Month\"), \"-\") %>%\n",
        "  mutate(Year = as.numeric(Year),\n",
        "         Month = as.numeric(Month),\n",
        "         Year_Month = make_date(Year, Month)) %>%\n",
        "  arrange(Year_Month) %>%\n",
        "  select(-Review_Text, -Reviewer_Location)\n",
        "\n",
        "knitr::kable(head(data, 10))\n",
        "\n",
        "\n",
        "data_aggreagated = data %>%\n",
        "  group_by(Year_Month, Branch) %>%\n",
        "  summarise(Bad_Reviews = sum(Rating <= 3, na.rm = T),\n",
        "            Good_Reviews = sum(Rating >3, na.rm = T)) %>%\n",
        "  ungroup() %>%\n",
        "  group_by(Branch) %>%\n",
        "  mutate(Rolling_Bad = Bad_Reviews + lag(Bad_Reviews, 1) + lag(Bad_Reviews, 2),\n",
        "         Rolling_Good = Good_Reviews + lag(Good_Reviews, 1) + lag(Good_Reviews, 2))\n",
        "\n",
        "knitr::kable(head(data_aggreagated, 20))\n",
        "\n",
        "\n",
        "data_aggreagated = data_aggreagated %>%\n",
        "  filter(!is.na(Rolling_Bad), !is.na(Rolling_Good)) # taking into consideration only non-missing values\n",
        "\n",
        "ggplot(data_aggreagated, aes(x = Year_Month)) +\n",
        "  geom_line(aes(y = Rolling_Bad / (Rolling_Bad + Rolling_Good), color = \"Bad Reviews\")) +\n",
        "  geom_line(aes(y = Rolling_Good / (Rolling_Bad + Rolling_Good), color = \"Good Reviews\")) +\n",
        "  facet_wrap(~Branch) +\n",
        "  labs(title = \"Rolling Percentage of Goof and Bad Reviews per Branch\",\n",
        "       x = \"Year\",\n",
        "       y = \"Percentage\") +\n",
        "  theme_minimal()"
      ],
      "metadata": {
        "colab": {
          "base_uri": "https://localhost:8080/",
          "height": 1000
        },
        "id": "SKsXKl3E_Dul",
        "outputId": "8057739c-f751-4754-e106-a776fac922a9"
      },
      "execution_count": null,
      "outputs": [
        {
          "output_type": "display_data",
          "data": {
            "text/plain": [
              "\n",
              "\n",
              "| Review_ID| Rating| Year| Month|Branch                |Year_Month |\n",
              "|---------:|------:|----:|-----:|:---------------------|:----------|\n",
              "|  94453340|      4| 2010|     3|Disneyland_HongKong   |2010-03-01 |\n",
              "|  95738397|      5| 2010|     3|Disneyland_Paris      |2010-03-01 |\n",
              "|  97637597|      5| 2010|     4|Disneyland_California |2010-04-01 |\n",
              "| 103682309|      2| 2010|     5|Disneyland_HongKong   |2010-05-01 |\n",
              "| 104424582|      5| 2010|     5|Disneyland_California |2010-05-01 |\n",
              "|  93079463|      5| 2010|     5|Disneyland_California |2010-05-01 |\n",
              "|  94826092|      1| 2010|     5|Disneyland_Paris      |2010-05-01 |\n",
              "| 108866563|      3| 2010|     6|Disneyland_California |2010-06-01 |\n",
              "| 102414955|      5| 2010|     6|Disneyland_California |2010-06-01 |\n",
              "| 101173905|      1| 2010|     6|Disneyland_California |2010-06-01 |"
            ]
          },
          "metadata": {}
        },
        {
          "output_type": "stream",
          "name": "stderr",
          "text": [
            "\u001b[1m\u001b[22m`summarise()` has grouped output by 'Year_Month'. You can override using the\n",
            "`.groups` argument.\n"
          ]
        },
        {
          "output_type": "display_data",
          "data": {
            "text/plain": [
              "\n",
              "\n",
              "|Year_Month |Branch                | Bad_Reviews| Good_Reviews| Rolling_Bad| Rolling_Good|\n",
              "|:----------|:---------------------|-----------:|------------:|-----------:|------------:|\n",
              "|2010-03-01 |Disneyland_HongKong   |           0|            1|          NA|           NA|\n",
              "|2010-03-01 |Disneyland_Paris      |           0|            1|          NA|           NA|\n",
              "|2010-04-01 |Disneyland_California |           0|            1|          NA|           NA|\n",
              "|2010-05-01 |Disneyland_California |           0|            2|          NA|           NA|\n",
              "|2010-05-01 |Disneyland_HongKong   |           1|            0|          NA|           NA|\n",
              "|2010-05-01 |Disneyland_Paris      |           1|            0|          NA|           NA|\n",
              "|2010-06-01 |Disneyland_California |           2|            3|           2|            6|\n",
              "|2010-06-01 |Disneyland_Paris      |           0|            3|           1|            4|\n",
              "|2010-07-01 |Disneyland_California |           1|            3|           3|            8|\n",
              "|2010-07-01 |Disneyland_Paris      |           1|            2|           2|            5|\n",
              "|2010-08-01 |Disneyland_California |           1|            4|           4|           10|\n",
              "|2010-08-01 |Disneyland_Paris      |           0|            2|           1|            7|\n",
              "|2010-09-01 |Disneyland_California |           0|            3|           2|           10|\n",
              "|2010-09-01 |Disneyland_HongKong   |           0|            1|           1|            2|\n",
              "|2010-09-01 |Disneyland_Paris      |           3|            3|           4|            7|\n",
              "|2010-10-01 |Disneyland_California |           0|           10|           1|           17|\n",
              "|2010-10-01 |Disneyland_HongKong   |           0|            5|           1|            6|\n",
              "|2010-10-01 |Disneyland_Paris      |           1|            5|           4|           10|\n",
              "|2010-11-01 |Disneyland_California |           0|           13|           0|           26|\n",
              "|2010-11-01 |Disneyland_HongKong   |           4|            2|           4|            8|"
            ]
          },
          "metadata": {}
        },
        {
          "output_type": "display_data",
          "data": {
            "text/plain": [
              "plot without title"
            ],
            "image/png": "[encoded data removed]"
          },
          "metadata": {
            "image/png": {
              "width": 420,
              "height": 420
            }
          }
        }
      ]
    },
    {
      "cell_type": "markdown",
      "metadata": {
        "id": "6ugga7_-0yb_"
      },
      "source": [
        "##Exercise 03: Supervised Machine Learning"
      ]
    },
    {
      "cell_type": "markdown",
      "metadata": {
        "id": "ho7lHZwK0ycA"
      },
      "source": [
        "You must use data in *Obesity prediction.csv* file to:\n",
        "\n",
        "**1.** Prepare the dataset by dummifying all non-numerical columns and normalizing the data. Perform cross-validation to identify the optimal k value for KNN. Test values of k from 1 to 20, and for each k, use cross-validation process with 5 folds. For each fold, calculate the classification error on the validation set. Average the errors for each k, and identify the value of k with the lowest average error. Report the optimal k and the corresponding error rate.\n"
      ]
    },
    {
      "cell_type": "markdown",
      "source": [
        "**Explanation:**\n",
        "\n",
        "The first part of the code dummifies non-numerical columns and normalizes the dataset using min-max normalization.\n",
        "\n",
        "The second part performs cross-validation. For each k value, it obtains prediction for each fold and calculates the classification error. For each k values the average error is calculated (mean) and at last minimal error and corresponding k value is found."
      ],
      "metadata": {
        "id": "6IEAVqDbmQ46"
      }
    },
    {
      "cell_type": "code",
      "source": [
        "rm(list = ls())\n",
        "\n",
        "data = read.csv(\"./Obesity prediction.csv\")\n",
        "columns_dummy = c(\"Gender\", \"family_history\", \"FAVC\", \"CAEC\", \"SMOKE\", \"SCC\", \"CALC\", \"MTRANS\", \"Obesity\")\n",
        "columns_normal = c(\"Age\", \"Height\", \"Weight\", \"FCVC\", \"NCP\", \"CH2O\", \"FAF\", \"TUE\")\n",
        "\n",
        "for(col in columns_dummy) {\n",
        "  data[[col]] = as.factor(data[[col]])\n",
        "}\n",
        "\n",
        "# dummifying and normalizing\n",
        "data = data %>%\n",
        "  dummy_cols(select_columns = columns_dummy) %>%\n",
        "  select(-Gender, -CAEC, -CALC, -MTRANS, -family_history, -FAVC, -SMOKE, -SCC)\n",
        "\n",
        "for(col in columns_normal) {\n",
        "  min_val = min(data[[col]], na.rm = T)\n",
        "  max_val = max(data[[col]], na.rm = T)\n",
        "\n",
        "  data[[col]] = (data[[col]] - min_val) / (max_val - min_val)\n",
        "}\n",
        "\n",
        "# cross-validation\n",
        "folds = createMultiFolds(data$Obesity, k = 5, times = 1)\n",
        "k_values = 1:20\n",
        "k_errors = c()\n",
        "\n",
        "for(k in k_values) {\n",
        "\n",
        "  fold_errors = c()\n",
        "\n",
        "  for (i in 1:length(folds)) {\n",
        "    data.tra = data[ folds[[i]], ]\n",
        "    data.tst = data[-folds[[i]], ]\n",
        "\n",
        "    predictionknn = knn(data.tra %>% select(-Obesity),\n",
        "                        data.tst %>% select(-Obesity),\n",
        "                        data.tra$Obesity,\n",
        "                        k = k)\n",
        "\n",
        "    accuracyknn = confusionMatrix(predictionknn, data.tst$Obesity)$overall[[1]]\n",
        "    classification_error = 1 - accuracyknn\n",
        "    fold_errors[i] = classification_error\n",
        "  }\n",
        "\n",
        "  k_errors[k] = mean(fold_errors)\n",
        "}\n",
        "\n",
        "min_error = min(k_errors)\n",
        "optimal_k = which.min(k_errors)\n",
        "\n",
        "glue(\"Optimal k: \", optimal_k, \"\\n\")\n",
        "glue(\"Corresponding error rate: \", min_error, \"\\n\")"
      ],
      "metadata": {
        "id": "sIhzk6oemMvv",
        "colab": {
          "base_uri": "https://localhost:8080/",
          "height": 52
        },
        "outputId": "59219427-a895-4d4e-952a-3aa9f2c4dde4"
      },
      "execution_count": null,
      "outputs": [
        {
          "output_type": "display_data",
          "data": {
            "text/html": [
              "'Optimal k: 4'"
            ],
            "text/markdown": "'Optimal k: 4'",
            "text/latex": "'Optimal k: 4'",
            "text/plain": [
              "Optimal k: 4"
            ]
          },
          "metadata": {}
        },
        {
          "output_type": "display_data",
          "data": {
            "text/html": [
              "'Corresponding error rate: 0.0118474278803894'"
            ],
            "text/markdown": "'Corresponding error rate: 0.0118474278803894'",
            "text/latex": "'Corresponding error rate: 0.0118474278803894'",
            "text/plain": [
              "Corresponding error rate: 0.0118474278803894"
            ]
          },
          "metadata": {}
        }
      ]
    },
    {
      "cell_type": "markdown",
      "source": [
        "**2.** Split the dataset into training (80%) and testing (20%) sets. Train a decision tree model to predict the Obesity class using the training set. Use the model to predict the test set and evaluate its performance using a confusion matrix. Calculate per-class precision and recall. An identify the easiest and hardest class to predict by the model."
      ],
      "metadata": {
        "id": "u18SLGXRA_rR"
      }
    },
    {
      "cell_type": "markdown",
      "source": [
        "**Explanation:**\n",
        "\n",
        "The first part of the code trains a decision tree, finds predictions and obtains the confusion matrix.\n",
        "\n",
        "The second part of the code calculates precisions and recalls. The easiest and hardest class to predict is obtained based on the F1-Score.\n",
        "\n",
        "F1-Score is a metric that combines recall and precision. (source: https://www.quarkml.com/2022/05/precision-and-recall-in-classification.html)"
      ],
      "metadata": {
        "id": "imGTxwwNmKPY"
      }
    },
    {
      "cell_type": "code",
      "source": [
        "rm(list = ls())\n",
        "\n",
        "data = read.csv(\"./Obesity prediction.csv\")\n",
        "columns_factor = c(\"Gender\", \"family_history\", \"FAVC\", \"CAEC\", \"SMOKE\", \"SCC\", \"CALC\", \"MTRANS\", \"Obesity\")\n",
        "\n",
        "for(col in columns_factor) {\n",
        "  data[[col]] = as.factor(data[[col]])\n",
        "}\n",
        "\n",
        "index = createDataPartition(data$Obesity, p = 0.80, times = 1, list=FALSE)\n",
        "data.tra = data[ index,]\n",
        "data.tst = data[-index,]\n",
        "\n",
        "model = rpart(Obesity~., data = data.tra, method = \"class\")\n",
        "predictions = predict(model, data.tst, type = \"class\")\n",
        "\n",
        "cm = confusionMatrix(predictions, data.tst$Obesity)$table\n",
        "\n",
        "\n",
        "names = colnames(cm)\n",
        "precisions = c()\n",
        "recalls = c()\n",
        "f1_scores = c()\n",
        "\n",
        "for(name in names) {\n",
        "  tp = cm[name,name]\n",
        "  row_sum = sum(cm[name,])\n",
        "  col_sum = sum(cm[,name])\n",
        "\n",
        "  precision = tp / row_sum\n",
        "  recall = tp / col_sum\n",
        "  f1_score = 2 * (precision * recall) / (precision + recall)\n",
        "\n",
        "  precisions[name] = precision\n",
        "  recalls[name] = recall\n",
        "  f1_scores[name] = f1_score\n",
        "}\n",
        "\n",
        "easiest = names(which.max(f1_scores))\n",
        "hardest = names(which.min(f1_scores))\n",
        "\n",
        "glue(\"Easiest to predict: \", easiest, \"\\n\")\n",
        "glue(\"Hardest to predict: \", hardest, \"\\n\")"
      ],
      "metadata": {
        "id": "5Y3bpxi5BCGy",
        "colab": {
          "base_uri": "https://localhost:8080/",
          "height": 52
        },
        "outputId": "a6ac880e-19c9-4ad5-e5eb-78588e1b89b2"
      },
      "execution_count": null,
      "outputs": [
        {
          "output_type": "display_data",
          "data": {
            "text/html": [
              "'Easiest to predict: Obesity_Type_III'"
            ],
            "text/markdown": "'Easiest to predict: Obesity_Type_III'",
            "text/latex": "'Easiest to predict: Obesity\\_Type\\_III'",
            "text/plain": [
              "Easiest to predict: Obesity_Type_III"
            ]
          },
          "metadata": {}
        },
        {
          "output_type": "display_data",
          "data": {
            "text/html": [
              "'Hardest to predict: Normal_Weight'"
            ],
            "text/markdown": "'Hardest to predict: Normal_Weight'",
            "text/latex": "'Hardest to predict: Normal\\_Weight'",
            "text/plain": [
              "Hardest to predict: Normal_Weight"
            ]
          },
          "metadata": {}
        }
      ]
    },
    {
      "cell_type": "markdown",
      "metadata": {
        "id": "B_3KTd020-lf"
      },
      "source": [
        "##Exercise 04: Unsupervised Machine Learning\n"
      ]
    },
    {
      "cell_type": "markdown",
      "metadata": {
        "id": "bFUFjnbC0-lg"
      },
      "source": [
        "Using the *volpre2019.csv* data:\n",
        "\n",
        "**1.** Extract the first two characters from Codigo Variedad to create a new column representing the product family. Calculate the percentage of each product family sent by each Descripcion Origen. Cluster the Descripcion Origen into groups using K-means based on these percentages. Present the centroid of each cluster, showing the percentage distribution of product families for each cluster. Provide a clear interpretation of the clusters."
      ]
    },
    {
      "cell_type": "markdown",
      "source": [
        "**Explanation:**\n",
        "\n",
        "The first part of the code deals with calculation of percentages for product families. Since *kmeans()* needs numeric data, in the second part of the code, data is prepared with the use of *pivot_wider()*. The last part of the code handles clustering operation."
      ],
      "metadata": {
        "id": "DtDdlcpgDcgl"
      }
    },
    {
      "cell_type": "code",
      "metadata": {
        "id": "DB8gPNB2A7kZ",
        "colab": {
          "base_uri": "https://localhost:8080/",
          "height": 242
        },
        "outputId": "f3028deb-287d-44cd-fb68-ac9ef6dbf387"
      },
      "source": [
        "rm(list = ls())\n",
        "\n",
        "data = read.csv(\"./volpre2019.csv\", sep = \";\", dec = \",\")\n",
        "\n",
        "data = data %>%\n",
        "  mutate(Family = str_extract(Codigo.Variedad, \"\\\\S{2}\"))\n",
        "\n",
        "data_all = data %>%\n",
        "  group_by(Descripcion.Origen) %>%\n",
        "  summarise(All = n())\n",
        "\n",
        "data_family = data %>%\n",
        "  group_by(Descripcion.Origen, Family) %>%\n",
        "  summarise(Family_sum = n()) %>%\n",
        "  left_join(data_all, by = \"Descripcion.Origen\") %>%\n",
        "  mutate(Percentage = 100 * Family_sum / All) %>%\n",
        "  select(-All, - Family_sum)\n",
        "\n",
        "# preparation\n",
        "data_wide = data_family %>%\n",
        "  pivot_wider(names_from = Family, values_from = Percentage, values_fill = 0)\n",
        "\n",
        "data_wide = data_wide %>%\n",
        "  ungroup() %>%\n",
        "  select(-Descripcion.Origen)\n",
        "\n",
        "# clustering\n",
        "set.seed(123456)\n",
        "clustering = kmeans(data_wide, centers = 5)\n",
        "centroids = clustering$centers\n",
        "\n",
        "data_centroids = as.data.frame(centroids) %>%\n",
        "  mutate(Cluster = glue(\"Cluster {row_number()}\"))\n",
        "\n",
        "knitr::kable(data_centroids, digits = 2, caption = \"Percentage Distribution of Product Families for Each Cluster\")"
      ],
      "execution_count": null,
      "outputs": [
        {
          "output_type": "stream",
          "name": "stderr",
          "text": [
            "\u001b[1m\u001b[22m`summarise()` has grouped output by 'Descripcion.Origen'. You can override\n",
            "using the `.groups` argument.\n"
          ]
        },
        {
          "output_type": "display_data",
          "data": {
            "text/plain": [
              "\n",
              "\n",
              "Table: Percentage Distribution of Product Families for Each Cluster\n",
              "\n",
              "|    CA|   CB|    CC|   CE|   CK|    F1|    F2|   F3|    P4|    P6|   CG|    CI|   CJ|    P5|   CH|   CD|   CF|   CL|   Co|Cluster   |\n",
              "|-----:|----:|-----:|----:|----:|-----:|-----:|----:|-----:|-----:|----:|-----:|----:|-----:|----:|----:|----:|----:|----:|:---------|\n",
              "|  3.85| 1.20|  2.71| 2.83| 0.96| 20.25| 48.84| 7.83|  1.89|  5.47| 0.89|  0.69| 0.00|  2.27| 0.30| 0.00| 0.00| 0.01| 0.00|Cluster 1 |\n",
              "|  1.20| 0.03|  0.12| 0.02| 0.00| 90.25|  5.51| 1.38|  1.14|  0.00| 0.32|  0.02| 0.00|  0.00| 0.01| 0.00| 0.00| 0.00| 0.00|Cluster 2 |\n",
              "|  2.76| 0.94|  1.53| 1.75| 0.90| 12.62| 13.88| 3.54| 34.22|  8.81| 0.92|  0.59| 0.01| 12.88| 0.26| 0.02| 0.01| 0.02| 4.35|Cluster 3 |\n",
              "| 62.75| 0.00| 12.54| 0.29| 0.14|  4.20|  0.43| 3.62|  0.00|  2.17| 1.74| 11.96| 0.14|  0.00| 0.00| 0.00| 0.00| 0.00| 0.00|Cluster 4 |\n",
              "|  2.72| 0.08|  0.15| 0.12| 0.06|  5.78|  1.70| 0.41| 71.58| 11.79| 0.43|  0.02| 0.00|  5.06| 0.08| 0.00| 0.02| 0.00| 0.00|Cluster 5 |"
            ]
          },
          "metadata": {}
        }
      ]
    },
    {
      "cell_type": "markdown",
      "source": [
        "Cluster 1 is diversed, dominated by family F2 (48,84%) and F1 (20,25%).\n",
        "\n",
        "Cluster 2 is almost entirely composed of family F1 (90,25%).\n",
        "\n",
        "Spread of families in Cluster 3 is balanced, with the most percentage for family P4 (34,22%).\n",
        "\n",
        "For Cluster 4, there is a high concentration in family CA (62,75%) and for Cluster 5 in family P4 (71,58%).\n",
        "\n",
        "Additionaly, across all clusters, the families CH, CD, CF, CL appear in very low percentage, near 0%.\n",
        "\n"
      ],
      "metadata": {
        "id": "jSYAHsCdPbBh"
      }
    },
    {
      "cell_type": "markdown",
      "source": [
        "**2.** Discretize the Kilos column into bins (e.g., low, medium, high, according with the product). Extract the month from the Fecha Desde column and use it as a separate variable. Generate association rules using the arules package, focusing on the relationships between months, product families, and discretized kilograms. Extract the top 20 association rules with Kilos=high in the consequent, regarding confidence and present a summary that includes the rules, confidence, and lift. Discuss the most interesting patterns observed."
      ],
      "metadata": {
        "id": "tnNFu5uuBJ-I"
      }
    },
    {
      "cell_type": "markdown",
      "source": [
        "**Explanation:**\n",
        "\n",
        "The first part of the code prepares the data for the task. Next, the discretization is handled with the use of *quantile()*. The last part of the code handles generation association rules using *apriori()*, and creates a summary table. For support and confidence in *apriori()* following values were chosen in order to get at least 20 association rules with Kilos=High. When the value for support was lower, not enough rules with Kilos=High were generated."
      ],
      "metadata": {
        "id": "NF01UPpKyxYE"
      }
    },
    {
      "cell_type": "code",
      "source": [
        "rm(list = ls())\n",
        "\n",
        "data = read.csv(\"./volpre2019.csv\", sep = \";\", dec = \",\")\n",
        "data = data %>%\n",
        "  mutate(Family = str_extract(Codigo.Variedad, \"\\\\S{2}\"))\n",
        "\n",
        "\n",
        "# preparation\n",
        "data$Kilos = str_replace_all(data$Kilos, \" \", \"\")\n",
        "data = data %>%\n",
        "  filter(Kilos != \"Kilos\")\n",
        "data$Kilos = as.numeric(data$Kilos)\n",
        "data = data %>%\n",
        "  filter(!is.na(data$Kilos))\n",
        "\n",
        "\n",
        "# discretization\n",
        "values = quantile(data$Kilos, probs = c(1/3, 2/3, 1))\n",
        "\n",
        "data = data %>%\n",
        "  mutate(Kilos = case_when(Kilos <= values[1] ~ \"Low\",\n",
        "                           Kilos <= values[2] ~ \"Medium\",\n",
        "                           Kilos <= values[3] ~ \"High\")) %>%\n",
        "  separate(Fecha.Desde, into = c(\"Year\", \"Month\", \"Day\"), sep = c(4, 6)) %>%\n",
        "  select(Month, Kilos, Family) %>%\n",
        "  mutate_all(factor)\n",
        "\n",
        "\n",
        "# association rules\n",
        "data_trans = as(data, \"transactions\")\n",
        "rules = apriori(data_trans, parameter = list(supp = 0.001, conf = 0.6))\n",
        "\n",
        "rules2 = subset(rules, subset = (rhs %in% \"Kilos=High\"))\n",
        "top_rules = sort(rules2, by = \"confidence\", decreasing = TRUE)[1:20]\n",
        "\n",
        "inspect(top_rules)\n",
        "\n",
        "\n",
        "# summary\n",
        "summary = data.frame(\n",
        "  lhs = labels(lhs(top_rules)),\n",
        "  rhs = labels(rhs(top_rules)),\n",
        "  support = quality(top_rules)$support,\n",
        "  confidence = quality(top_rules)$confidence,\n",
        "  lift = quality(top_rules)$lift\n",
        ")\n",
        "\n",
        "knitr::kable(summary)"
      ],
      "metadata": {
        "id": "G3WYg6fQBMSC",
        "colab": {
          "base_uri": "https://localhost:8080/",
          "height": 1000
        },
        "outputId": "18cbcf3f-4562-4afc-cce2-44940bd16765"
      },
      "execution_count": null,
      "outputs": [
        {
          "output_type": "stream",
          "name": "stdout",
          "text": [
            "Apriori\n",
            "\n",
            "Parameter specification:\n",
            " confidence minval smax arem  aval originalSupport maxtime support minlen\n",
            "        0.6    0.1    1 none FALSE            TRUE       5   0.001      1\n",
            " maxlen target  ext\n",
            "     10  rules TRUE\n",
            "\n",
            "Algorithmic control:\n",
            " filter tree heap memopt load sort verbose\n",
            "    0.1 TRUE TRUE  FALSE TRUE    2    TRUE\n",
            "\n",
            "Absolute minimum support count: 50 \n",
            "\n",
            "set item appearances ...[0 item(s)] done [0.00s].\n",
            "set transactions ...[33 item(s), 50243 transaction(s)] done [0.01s].\n",
            "sorting and recoding items ... [29 item(s)] done [0.00s].\n",
            "creating transaction tree ... done [0.02s].\n",
            "checking subsets of size 1 2 3 done [0.00s].\n",
            "writing ... [44 rule(s)] done [0.00s].\n",
            "creating S4 object  ... done [0.00s].\n",
            "     lhs                      rhs          support     confidence coverage   \n",
            "[1]  {Month=10, Family=CA} => {Kilos=High} 0.001532552 0.8555556  0.001791294\n",
            "[2]  {Month=09, Family=CA} => {Kilos=High} 0.001472842 0.8314607  0.001771391\n",
            "[3]  {Month=12, Family=CC} => {Kilos=High} 0.001154390 0.8055556  0.001433035\n",
            "[4]  {Month=06, Family=CC} => {Kilos=High} 0.001054873 0.7794118  0.001353422\n",
            "[5]  {Family=CG}           => {Kilos=High} 0.005393786 0.7742857  0.006966145\n",
            "[6]  {Month=11, Family=CC} => {Kilos=High} 0.001034970 0.7647059  0.001353422\n",
            "[7]  {Month=09, Family=CC} => {Kilos=High} 0.001074777 0.7605634  0.001413132\n",
            "[8]  {Month=01, Family=CA} => {Kilos=High} 0.001114583 0.7466667  0.001492745\n",
            "[9]  {Family=CC}           => {Kilos=High} 0.011046315 0.7409880  0.014907549\n",
            "[10] {Month=06, Family=CA} => {Kilos=High} 0.001731584 0.7372881  0.002348586\n",
            "[11] {Family=CI}           => {Kilos=High} 0.003522879 0.7224490  0.004876301\n",
            "[12] {Month=03, Family=CA} => {Kilos=High} 0.001691778 0.7203390  0.002348586\n",
            "[13] {Month=12, Family=CA} => {Kilos=High} 0.001851004 0.7099237  0.002607328\n",
            "[14] {Family=CA}           => {Kilos=High} 0.018330912 0.7046672  0.026013574\n",
            "[15] {Month=07, Family=CA} => {Kilos=High} 0.001492745 0.7009346  0.002129650\n",
            "[16] {Month=11, Family=CA} => {Kilos=High} 0.001452939 0.6886792  0.002109747\n",
            "[17] {Month=03, Family=F3} => {Kilos=High} 0.001572358 0.6869565  0.002288876\n",
            "[18] {Month=08, Family=CA} => {Kilos=High} 0.001413132 0.6826923  0.002069940\n",
            "[19] {Month=04, Family=F3} => {Kilos=High} 0.001771391 0.6592593  0.002686941\n",
            "[20] {Month=05, Family=CA} => {Kilos=High} 0.001472842 0.6491228  0.002268973\n",
            "     lift     count\n",
            "[1]  2.566616  77  \n",
            "[2]  2.494332  74  \n",
            "[3]  2.416619  58  \n",
            "[4]  2.338189  53  \n",
            "[5]  2.322811 271  \n",
            "[6]  2.294072  52  \n",
            "[7]  2.281645  54  \n",
            "[8]  2.239955  56  \n",
            "[9]  2.222920 555  \n",
            "[10] 2.211820  87  \n",
            "[11] 2.167304 177  \n",
            "[12] 2.160974  85  \n",
            "[13] 2.129729  93  \n",
            "[14] 2.113959 921  \n",
            "[15] 2.102762  75  \n",
            "[16] 2.065997  73  \n",
            "[17] 2.060829  79  \n",
            "[18] 2.048036  71  \n",
            "[19] 1.977738  89  \n",
            "[20] 1.947330  74  \n"
          ]
        },
        {
          "output_type": "display_data",
          "data": {
            "text/plain": [
              "\n",
              "\n",
              "|lhs                  |rhs          |   support| confidence|     lift|\n",
              "|:--------------------|:------------|---------:|----------:|--------:|\n",
              "|{Month=10,Family=CA} |{Kilos=High} | 0.0015326|  0.8555556| 2.566616|\n",
              "|{Month=09,Family=CA} |{Kilos=High} | 0.0014728|  0.8314607| 2.494332|\n",
              "|{Month=12,Family=CC} |{Kilos=High} | 0.0011544|  0.8055556| 2.416619|\n",
              "|{Month=06,Family=CC} |{Kilos=High} | 0.0010549|  0.7794118| 2.338189|\n",
              "|{Family=CG}          |{Kilos=High} | 0.0053938|  0.7742857| 2.322811|\n",
              "|{Month=11,Family=CC} |{Kilos=High} | 0.0010350|  0.7647059| 2.294072|\n",
              "|{Month=09,Family=CC} |{Kilos=High} | 0.0010748|  0.7605634| 2.281645|\n",
              "|{Month=01,Family=CA} |{Kilos=High} | 0.0011146|  0.7466667| 2.239955|\n",
              "|{Family=CC}          |{Kilos=High} | 0.0110463|  0.7409880| 2.222920|\n",
              "|{Month=06,Family=CA} |{Kilos=High} | 0.0017316|  0.7372881| 2.211820|\n",
              "|{Family=CI}          |{Kilos=High} | 0.0035229|  0.7224490| 2.167304|\n",
              "|{Month=03,Family=CA} |{Kilos=High} | 0.0016918|  0.7203390| 2.160974|\n",
              "|{Month=12,Family=CA} |{Kilos=High} | 0.0018510|  0.7099237| 2.129729|\n",
              "|{Family=CA}          |{Kilos=High} | 0.0183309|  0.7046672| 2.113959|\n",
              "|{Month=07,Family=CA} |{Kilos=High} | 0.0014927|  0.7009346| 2.102762|\n",
              "|{Month=11,Family=CA} |{Kilos=High} | 0.0014529|  0.6886792| 2.065997|\n",
              "|{Month=03,Family=F3} |{Kilos=High} | 0.0015724|  0.6869565| 2.060828|\n",
              "|{Month=08,Family=CA} |{Kilos=High} | 0.0014131|  0.6826923| 2.048036|\n",
              "|{Month=04,Family=F3} |{Kilos=High} | 0.0017714|  0.6592593| 1.977738|\n",
              "|{Month=05,Family=CA} |{Kilos=High} | 0.0014728|  0.6491228| 1.947330|"
            ]
          },
          "metadata": {}
        }
      ]
    },
    {
      "cell_type": "markdown",
      "source": [
        "The rule {Month=10,Family=CA} => {Kilos=High} has the highest confidence (85,55%) and lift of 2,56. This means there is a strong likelihood of high sales volume for product family CA in October.\n",
        "There are also rules without month condition that have high confidence and high lift."
      ],
      "metadata": {
        "id": "npW_8is51wnc"
      }
    }
  ]
}